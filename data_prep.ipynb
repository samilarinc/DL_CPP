{
 "cells": [
  {
   "cell_type": "code",
   "execution_count": 1,
   "metadata": {},
   "outputs": [],
   "source": [
    "import pandas as pd\n",
    "import numpy as np\n",
    "\n",
    "# Read in the data\n",
    "df = pd.read_csv('other/train.csv')\n",
    "y = df[\"Habitability_score\"].values\n",
    "ids = df['Property_ID'].values  \n",
    "df.drop(['Habitability_score', 'Property_ID'], axis=1, inplace=True)\n",
    "n_data = df.shape[0]"
   ]
  },
  {
   "cell_type": "code",
   "execution_count": 3,
   "metadata": {},
   "outputs": [],
   "source": [
    "import numpy as np\n",
    "import pandas as pd\n",
    "\n",
    "class DataPrep(object):\n",
    "    def __init__(self, df, y):\n",
    "        self.df = df.copy()\n",
    "        self.y = y.copy()\n",
    "        self.n_data = df.shape[0]\n",
    "        self.arrs = []\n",
    "        self.cols = []\n",
    "        self.nans = []\n",
    "    \n",
    "    def search_nan(self):\n",
    "        for i in self.df:\n",
    "            for j in self.df[i]:\n",
    "                if j != j:\n",
    "                    self.nans.append(i)\n",
    "                    break\n",
    "\n",
    "    def train_test_split(self, test_size=0.15, val_size=0.15):\n",
    "        if self.prepared_df is not None:\n",
    "            n_train = int(self.n_data*(1 - test_size - val_size))\n",
    "            n_test = int(self.n_data*(test_size))\n",
    "            n_val = self.n_data - n_train - n_test\n",
    "            arr_data = self.prepared_df.to_numpy()\n",
    "            arr_y = self.y\n",
    "            np.random.seed(31)\n",
    "            p = np.random.permutation(len(self.y))\n",
    "            arr_data = arr_data[p]\n",
    "            arr_y = arr_y[p]\n",
    "            if val_size == 0:\n",
    "                return arr_data[:n_train], arr_y[:n_train], arr_data[n_train:], arr_y[n_train:]\n",
    "            else:\n",
    "                return arr_data[:n_train], arr_y[:n_train], arr_data[n_train:n_train+n_val], arr_y[n_train:n_train+n_val], arr_data[n_train+n_val:], arr_y[n_train+n_val:]\n",
    "        else:\n",
    "            print(\"Run prepare() first!!!\")\n",
    "        \n",
    "    def fill_categorical_nan_and_one_hot_encode(self, col):\n",
    "        arr = self.df[col].to_numpy()\n",
    "        dct = dict()\n",
    "        nan_ind = []\n",
    "\n",
    "        for i in range(len(arr)):\n",
    "            element = arr[i]\n",
    "            if isinstance(element, str) and element != 'nan':\n",
    "                try:\n",
    "                    dct[element] += 1\n",
    "                except:\n",
    "                    dct[element] = 1\n",
    "            else:\n",
    "                nan_ind.append(i)\n",
    "\n",
    "        nonnan_len = len(arr) - len(nan_ind)\n",
    "        for i in dct:\n",
    "            dct[i] = dct[i]/nonnan_len\n",
    "        for i in nan_ind:\n",
    "            # arr[i] = np.random.choice(list(dct.keys()), p=list(dct.values()))\n",
    "            arr[i] = \"nan\"\n",
    "        freq_arr = np.zeros(len(dct.keys()))\n",
    "        uni_vals = np.unique(arr).tolist()\n",
    "        uni_vals.remove(\"nan\")\n",
    "        encoded_arr = np.zeros((self.n_data, len(uni_vals)))\n",
    "        encod_dict = dict()\n",
    "        for i in range(len(uni_vals)):\n",
    "            encod_dict[uni_vals[i]] = i\n",
    "        for i in range(len(freq_arr)):\n",
    "            freq_arr[i] = dct[uni_vals[i]]\n",
    "        for i in range(self.n_data):\n",
    "            if arr[i] == \"nan\":\n",
    "                encoded_arr[i] = freq_arr.copy()\n",
    "            else:\n",
    "                encoded_arr[i][encod_dict[arr[i]]] = 1\n",
    "        return encoded_arr, encod_dict\n",
    "\n",
    "    def fill_numerical_nan(self, col):\n",
    "        return self.df[col].fillna(self.df[col].mean())\n",
    "\n",
    "    def one_hot_encode_not_nan(self, col):\n",
    "        arr = self.df[col].to_numpy()\n",
    "        dct = dict()\n",
    "\n",
    "        for i in range(len(arr)):\n",
    "            element = arr[i]\n",
    "            try:\n",
    "                dct[element] += 1\n",
    "            except:\n",
    "                dct[element] = 1\n",
    "\n",
    "        uni_vals = np.unique(arr).tolist()\n",
    "        encoded_arr = np.zeros((self.n_data, len(uni_vals)))\n",
    "        encod_dict = dict()\n",
    "        for i in range(len(uni_vals)):\n",
    "            encod_dict[uni_vals[i]] = i\n",
    "        for i in range(self.n_data):\n",
    "            encoded_arr[i][encod_dict[arr[i]]] = 1\n",
    "        return encoded_arr, encod_dict\n",
    "\n",
    "    def normalize_numerical(self, arr):\n",
    "        return (arr - arr.mean())/arr.std()\n",
    "\n",
    "    def prepare(self):\n",
    "        d_types = self.df.dtypes\n",
    "        self.search_nan()\n",
    "        for i in self.df:\n",
    "            if i in self.nans:\n",
    "                if d_types[i] == \"object\":\n",
    "                    ret_tuple = self.fill_categorical_nan_and_one_hot_encode(i)\n",
    "                    for k in ret_tuple[0].T:\n",
    "                        self.arrs.append(k)\n",
    "                    for j in ret_tuple[1]:\n",
    "                        self.cols.append(i+'_'+j)\n",
    "                else:\n",
    "                    self.arrs.append(self.normalize_numerical(self.fill_numerical_nan(i)))\n",
    "                    self.cols.append(i)\n",
    "            else:\n",
    "                if d_types[i] == \"object\":\n",
    "                    ret_tuple = self.one_hot_encode_not_nan(i)\n",
    "                    for k in ret_tuple[0].T:\n",
    "                        self.arrs.append(k)\n",
    "                    for j in ret_tuple[1]:\n",
    "                        self.cols.append(i+'_'+j)\n",
    "                else:\n",
    "                    self.arrs.append(self.normalize_numerical(self.df[i]))\n",
    "                    self.cols.append(i)\n",
    "        self.prepared_df = pd.DataFrame(np.array(self.arrs).T, columns=self.cols)\n",
    "        return pd.DataFrame(np.array(self.arrs).T, columns=self.cols), self.y\n"
   ]
  },
  {
   "cell_type": "code",
   "execution_count": 4,
   "metadata": {},
   "outputs": [],
   "source": [
    "def calculate_loss(net, X, y):\n",
    "    y_hat = net.test(X)\n",
    "    y_hat = np.array(y_hat.tolist())\n",
    "    y_hat = y_hat.squeeze()\n",
    "    y = np.array(y.tolist())\n",
    "    y = y.squeeze()\n",
    "    return np.mean((y_hat - y)**2)\n",
    "\n",
    "def plot(loss, valloss):\n",
    "    import matplotlib.pyplot as plt\n",
    "    plt.plot(loss, label = 'train loss')\n",
    "    plt.plot(valloss, label = 'validation loss')\n",
    "    plt.xlabel('Epoch')\n",
    "    plt.ylabel('Loss')\n",
    "    plt.legend()\n",
    "    plt.show()\n"
   ]
  },
  {
   "cell_type": "code",
   "execution_count": 1,
   "metadata": {},
   "outputs": [],
   "source": []
  },
  {
   "cell_type": "code",
   "execution_count": 7,
   "metadata": {},
   "outputs": [
    {
     "name": "stdout",
     "output_type": "stream",
     "text": [
      "39499 data available with 31 features (some are one hot encoded)\n",
      "27649, 5926, 5924\n"
     ]
    }
   ],
   "source": [
    "df = pd.read_csv('other/train.csv')\n",
    "y = df[\"Habitability_score\"].values\n",
    "ids = df['Property_ID'].values  \n",
    "df.drop(['Habitability_score', 'Property_ID'], axis=1, inplace=True)\n",
    "preparator = DataPrep(df, y)\n",
    "PreparedData, labels = preparator.prepare()\n",
    "X_train, y_train, X_val, y_val, X_test, y_test = preparator.train_test_split(0.15, 0.15)\n",
    "n_data, n_features = PreparedData.shape[0:2]\n",
    "X = X_train\n",
    "y = y_train\n",
    "print(\"%d data available with %d features (some are one hot encoded)\"%(n_data, n_features))\n",
    "print(\"%d, %d, %d\"%(X_train.shape[0], X_val.shape[0], X_test.shape[0]))"
   ]
  },
  {
   "cell_type": "code",
   "execution_count": 9,
   "metadata": {},
   "outputs": [
    {
     "data": {
      "text/plain": [
       "'39499 data available with 31 features (some are one hot encoded)'"
      ]
     },
     "execution_count": 9,
     "metadata": {},
     "output_type": "execute_result"
    }
   ],
   "source": [
    "X = PreparedData.to_numpy()\n",
    "y = labels\n",
    "n_features = X.shape[1]\n",
    "\"%d data available with %d features (some are one hot encoded)\"%(n_data, n_features)"
   ]
  },
  {
   "cell_type": "code",
   "execution_count": 1,
   "metadata": {},
   "outputs": [],
   "source": [
    "import numpy as np\n",
    "X_train = np.load('data/X_train.npy')\n",
    "y_train = np.load('data/y_train.npy')\n",
    "X_val = np.load('data/X_val.npy')\n",
    "y_val = np.load('data/y_val.npy')\n",
    "X_test = np.load('data/X_test.npy')\n",
    "y_test = np.load('data/y_test.npy')"
   ]
  },
  {
   "cell_type": "code",
   "execution_count": 15,
   "metadata": {},
   "outputs": [
    {
     "name": "stdout",
     "output_type": "stream",
     "text": [
      "Epoch:    1\n",
      "\tTrain Loss: 10422.33\tVal Loss: 5207.72\n",
      "Epoch:    2\n",
      "\tTrain Loss: 5144.64\tVal Loss: 5001.30\n",
      "Epoch:    3\n",
      "\tTrain Loss: 4904.57\tVal Loss: 4738.90\n",
      "Epoch:    4\n",
      "\tTrain Loss: 4624.64\tVal Loss: 4443.14\n",
      "Epoch:    5\n",
      "\tTrain Loss: 4314.16\tVal Loss: 4109.57\n",
      "Epoch:    6\n",
      "\tTrain Loss: 3961.63\tVal Loss: 3734.85\n",
      "Epoch:    7\n",
      "\tTrain Loss: 3559.89\tVal Loss: 3311.07\n",
      "Epoch:    8\n",
      "\tTrain Loss: 3105.63\tVal Loss: 2817.50\n",
      "Epoch:    9\n",
      "\tTrain Loss: 2586.88\tVal Loss: 2276.68\n",
      "Epoch:   10\n",
      "\tTrain Loss: 2032.72\tVal Loss: 1714.64\n",
      "Epoch:   11\n",
      "\tTrain Loss: 1472.92\tVal Loss: 1203.60\n",
      "Epoch:   12\n",
      "\tTrain Loss: 992.91\tVal Loss: 783.53\n",
      "Epoch:   13\n",
      "\tTrain Loss: 664.59\tVal Loss: 527.54\n",
      "Epoch:   14\n",
      "\tTrain Loss: 493.07\tVal Loss: 453.04\n",
      "Epoch:   15\n",
      "\tTrain Loss: 444.84\tVal Loss: 447.98\n",
      "Epoch:   16\n",
      "\tTrain Loss: 449.11\tVal Loss: 448.49\n",
      "Epoch:   17\n",
      "\tTrain Loss: 459.11\tVal Loss: 430.25\n",
      "Epoch:   18\n",
      "\tTrain Loss: 428.73\tVal Loss: 435.00\n",
      "Epoch:   19\n",
      "\tTrain Loss: 429.99\tVal Loss: 434.69\n",
      "Epoch:   20\n",
      "\tTrain Loss: 444.97\tVal Loss: 429.12\n",
      "Epoch:   21\n",
      "\tTrain Loss: 437.54\tVal Loss: 435.85\n",
      "Epoch:   22\n",
      "\tTrain Loss: 431.46\tVal Loss: 437.40\n",
      "Epoch:   23\n",
      "\tTrain Loss: 429.44\tVal Loss: 423.73\n",
      "Epoch:   24\n",
      "\tTrain Loss: 420.31\tVal Loss: 420.84\n",
      "Epoch:   25\n",
      "\tTrain Loss: 430.17\tVal Loss: 421.69\n",
      "Epoch:   26\n",
      "\tTrain Loss: 421.59\tVal Loss: 424.42\n",
      "Epoch:   27\n",
      "\tTrain Loss: 412.97\tVal Loss: 417.39\n",
      "Epoch:   28\n",
      "\tTrain Loss: 424.80\tVal Loss: 403.72\n",
      "Epoch:   29\n",
      "\tTrain Loss: 418.51\tVal Loss: 417.46\n",
      "Epoch:   30\n",
      "\tTrain Loss: 408.21\tVal Loss: 413.80\n",
      "Epoch:   31\n",
      "\tTrain Loss: 402.32\tVal Loss: 397.39\n",
      "Epoch:   32\n",
      "\tTrain Loss: 394.41\tVal Loss: 406.23\n",
      "Epoch:   33\n",
      "\tTrain Loss: 403.60\tVal Loss: 404.58\n",
      "Epoch:   34\n",
      "\tTrain Loss: 398.75\tVal Loss: 401.46\n",
      "Epoch:   35\n",
      "\tTrain Loss: 394.03\tVal Loss: 399.35\n"
     ]
    },
    {
     "ename": "KeyboardInterrupt",
     "evalue": "",
     "output_type": "error",
     "traceback": [
      "\u001b[0;31m---------------------------------------------------------------------------\u001b[0m",
      "\u001b[0;31mKeyboardInterrupt\u001b[0m                         Traceback (most recent call last)",
      "\u001b[1;32m/mnt/c/Users/pc/repos/DL_Framework_C/data_prep.ipynb Cell 8\u001b[0m in \u001b[0;36m<cell line: 60>\u001b[0;34m()\u001b[0m\n\u001b[1;32m     <a href='vscode-notebook-cell://wsl%2Bubuntu/mnt/c/Users/pc/repos/DL_Framework_C/data_prep.ipynb#X10sdnNjb2RlLXJlbW90ZQ%3D%3D?line=56'>57</a>\u001b[0m net\u001b[39m.\u001b[39mappend_layer(my_layers[\u001b[39m5\u001b[39m])\n\u001b[1;32m     <a href='vscode-notebook-cell://wsl%2Bubuntu/mnt/c/Users/pc/repos/DL_Framework_C/data_prep.ipynb#X10sdnNjb2RlLXJlbW90ZQ%3D%3D?line=58'>59</a>\u001b[0m epochs \u001b[39m=\u001b[39m \u001b[39m150\u001b[39m\n\u001b[0;32m---> <a href='vscode-notebook-cell://wsl%2Bubuntu/mnt/c/Users/pc/repos/DL_Framework_C/data_prep.ipynb#X10sdnNjb2RlLXJlbW90ZQ%3D%3D?line=59'>60</a>\u001b[0m loss, valloss \u001b[39m=\u001b[39m net\u001b[39m.\u001b[39;49mtrain(epochs, cross_val \u001b[39m=\u001b[39;49m \u001b[39mTrue\u001b[39;49;00m, valset \u001b[39m=\u001b[39;49m (X_val, y_val), verbose \u001b[39m=\u001b[39;49m \u001b[39mTrue\u001b[39;49;00m)\n\u001b[1;32m     <a href='vscode-notebook-cell://wsl%2Bubuntu/mnt/c/Users/pc/repos/DL_Framework_C/data_prep.ipynb#X10sdnNjb2RlLXJlbW90ZQ%3D%3D?line=60'>61</a>\u001b[0m collect()\n\u001b[1;32m     <a href='vscode-notebook-cell://wsl%2Bubuntu/mnt/c/Users/pc/repos/DL_Framework_C/data_prep.ipynb#X10sdnNjb2RlLXJlbW90ZQ%3D%3D?line=61'>62</a>\u001b[0m name_str \u001b[39m=\u001b[39m \u001b[39mf\u001b[39m\u001b[39m'\u001b[39m\u001b[39m{\u001b[39;00mhidden_sizes\u001b[39m}\u001b[39;00m\u001b[39m \u001b[39m\u001b[39m{\u001b[39;00mbatch_size\u001b[39m}\u001b[39;00m\u001b[39m, \u001b[39m\u001b[39m{\u001b[39;00mlr\u001b[39m}\u001b[39;00m\u001b[39m, \u001b[39m\u001b[39m{\u001b[39;00mmomentum\u001b[39m}\u001b[39;00m\u001b[39m, \u001b[39m\u001b[39m{\u001b[39;00mOptimizer\u001b[39m}\u001b[39;00m\u001b[39m, \u001b[39m\u001b[39m{\u001b[39;00mmy_activations[\u001b[39m0\u001b[39m]\u001b[39m.\u001b[39m\u001b[39m__class__\u001b[39m\u001b[39m.\u001b[39m\u001b[39m__name__\u001b[39m\u001b[39m}\u001b[39;00m\u001b[39m, \u001b[39m\u001b[39m{\u001b[39;00mloss_layer\u001b[39m.\u001b[39m\u001b[39m__class__\u001b[39m\u001b[39m.\u001b[39m\u001b[39m__name__\u001b[39m\u001b[39m}\u001b[39;00m\u001b[39m, \u001b[39m\u001b[39m{\u001b[39;00mepochs\u001b[39m}\u001b[39;00m\u001b[39m, \u001b[39m\u001b[39m{\u001b[39;00mloss[\u001b[39m-\u001b[39m\u001b[39m1\u001b[39m]\u001b[39m}\u001b[39;00m\u001b[39m, \u001b[39m\u001b[39m{\u001b[39;00mvalloss[\u001b[39m-\u001b[39m\u001b[39m1\u001b[39m]\u001b[39m}\u001b[39;00m\u001b[39m'\u001b[39m\n",
      "File \u001b[0;32m/mnt/c/Users/pc/repos/DL_Framework_C/NeuralNetwork.py:51\u001b[0m, in \u001b[0;36mNeuralNetwork.train\u001b[0;34m(self, epochs, cross_val, valset, verbose)\u001b[0m\n\u001b[1;32m     49\u001b[0m iterations \u001b[39m=\u001b[39m \u001b[39m0\u001b[39m\n\u001b[1;32m     50\u001b[0m \u001b[39mwhile\u001b[39;00m \u001b[39mnot\u001b[39;00m \u001b[39mself\u001b[39m\u001b[39m.\u001b[39mdataset\u001b[39m.\u001b[39mfinished:\n\u001b[0;32m---> 51\u001b[0m     loss \u001b[39m=\u001b[39m \u001b[39mself\u001b[39;49m\u001b[39m.\u001b[39;49m__forward()\n\u001b[1;32m     52\u001b[0m     inner_loss \u001b[39m+\u001b[39m\u001b[39m=\u001b[39m loss\n\u001b[1;32m     53\u001b[0m     \u001b[39mself\u001b[39m\u001b[39m.\u001b[39m__backward()\n",
      "File \u001b[0;32m/mnt/c/Users/pc/repos/DL_Framework_C/NeuralNetwork.py:27\u001b[0m, in \u001b[0;36mNeuralNetwork.__forward\u001b[0;34m(self)\u001b[0m\n\u001b[1;32m     25\u001b[0m y \u001b[39m=\u001b[39m y[:, \u001b[39mNone\u001b[39;00m, \u001b[39mNone\u001b[39;00m]\n\u001b[1;32m     26\u001b[0m X \u001b[39m=\u001b[39m X[:, :, \u001b[39mNone\u001b[39;00m]\n\u001b[0;32m---> 27\u001b[0m X, y \u001b[39m=\u001b[39m t(X\u001b[39m.\u001b[39;49mtolist()), t(y\u001b[39m.\u001b[39mtolist())\n\u001b[1;32m     28\u001b[0m \u001b[39mself\u001b[39m\u001b[39m.\u001b[39mlabels \u001b[39m=\u001b[39m y\n\u001b[1;32m     29\u001b[0m \u001b[39mfor\u001b[39;00m layer \u001b[39min\u001b[39;00m \u001b[39mself\u001b[39m\u001b[39m.\u001b[39mlayers:\n",
      "\u001b[0;31mKeyboardInterrupt\u001b[0m: "
     ]
    }
   ],
   "source": [
    "from NeuralNetwork import NeuralNetwork as nn\n",
    "from data_layer import Dataset\n",
    "from pyflow import Tensor, L1Loss, L2Loss, FullyConnected, SGD, CrossEntropyLoss, ReLU, Sigmoid, Dropout\n",
    "from gc import collect\n",
    "collect()\n",
    "\n",
    "y_val = Tensor(y_val[:, None, None]) if type(y_val) == np.ndarray else y_val\n",
    "batch_size = 2048\n",
    "dataset = Dataset(X_train, y_train, batch_size, True)\n",
    "loss_layer = L2Loss()\n",
    "net = nn(dataset, loss_layer)\n",
    "\n",
    "in_size = X_train.shape[1]\n",
    "hidden_sizes = (24, 16, 8, 4, 2)\n",
    "out_size = 1\n",
    "\n",
    "momentum = 0\n",
    "lr = 0.05\n",
    "Optimizer = 'Adam'\n",
    "Initializer = 'xavier'\n",
    "Regularizer = 'L2Regularizer'\n",
    "lamda = 0.01\n",
    "mu = 0.9\n",
    "rho = 0.999\n",
    "\n",
    "my_layers = []\n",
    "my_activations = []\n",
    "my_layers.append(FullyConnected(in_size, hidden_sizes[0], lr, Optimizer, momentum, mu, rho, Initializer, Regularizer, lamda)) # 0\n",
    "my_layers.append(FullyConnected(hidden_sizes[0], hidden_sizes[1], lr, Optimizer, momentum, mu, rho, Initializer, Regularizer, lamda)) # 1\n",
    "my_layers.append(FullyConnected(hidden_sizes[1], hidden_sizes[2], lr, Optimizer, momentum, mu, rho, Initializer, Regularizer, lamda)) # 2\n",
    "my_layers.append(FullyConnected(hidden_sizes[2], hidden_sizes[3], lr, Optimizer, momentum, mu, rho, Initializer, Regularizer, lamda)) # 3\n",
    "my_layers.append(FullyConnected(hidden_sizes[3], hidden_sizes[4], lr, Optimizer, momentum, mu, rho, Initializer, Regularizer, lamda)) # 4\n",
    "my_layers.append(FullyConnected(hidden_sizes[4], out_size, lr, Optimizer, momentum, mu, rho, Initializer, Regularizer, lamda))  # 5\n",
    "\n",
    "my_activations.append(ReLU())\n",
    "my_activations.append(ReLU())\n",
    "my_activations.append(ReLU())\n",
    "my_activations.append(ReLU())\n",
    "my_activations.append(ReLU())\n",
    "\n",
    "# dropouts = [Dropout(0.1), Dropout(0.1), Dropout(0.1), Dropout(0.1)]\n",
    "\n",
    "net.append_layer(my_layers[0])\n",
    "net.append_layer(my_activations[0])\n",
    "# net.append_layer(dropouts[0])\n",
    "net.append_layer(my_layers[1])\n",
    "net.append_layer(my_activations[1])\n",
    "# net.append_layer(dropouts[1])\n",
    "net.append_layer(my_layers[2])\n",
    "net.append_layer(my_activations[2])\n",
    "net.append_layer(my_layers[3])\n",
    "net.append_layer(my_activations[3])\n",
    "# net.append_layer(dropouts[2])\n",
    "net.append_layer(my_layers[4])\n",
    "net.append_layer(my_activations[4])\n",
    "# net.append_layer(dropouts[3])\n",
    "net.append_layer(my_layers[5])\n",
    "\n",
    "epochs = 150\n",
    "loss, valloss = net.train(epochs, cross_val = True, valset = (X_val, y_val), verbose = True)\n",
    "collect()\n",
    "name_str = f'{hidden_sizes} {batch_size}, {lr}, {momentum}, {Optimizer}, {my_activations[0].__class__.__name__}, {loss_layer.__class__.__name__}, {epochs}, {loss[-1]}, {valloss[-1]}'\n",
    "np.save(f'runs/loss_with_{name_str}.npy', loss)\n",
    "np.save(f'runs/valloss_with_{name_str}.npy', valloss)\n",
    "with open('runs/train_hist.txt', 'a') as f:\n",
    "    print(name_str, file=f)"
   ]
  },
  {
   "cell_type": "code",
   "execution_count": null,
   "metadata": {},
   "outputs": [],
   "source": [
    "calculate_loss(net, X_val, y_val), calculate_loss(net, X, y)\n",
    "import matplotlib.pyplot as plt\n",
    "t = np.arange(0, epochs)\n",
    "loss = net.loss\n",
    "valloss = net.vallosses\n",
    "plt.plot(t, loss, label = 'train loss')\n",
    "plt.plot(t, valloss, label = 'validation loss')\n",
    "plt.legend()\n",
    "print(valloss)"
   ]
  },
  {
   "cell_type": "code",
   "execution_count": null,
   "metadata": {},
   "outputs": [],
   "source": [
    "net.save_model('model_Adam_48_valllos')"
   ]
  },
  {
   "cell_type": "code",
   "execution_count": null,
   "metadata": {},
   "outputs": [],
   "source": [
    "from os import listdir\n",
    "for i in listdir('runs'):\n",
    "    if i.startswith('loss_with_'):\n",
    "        name = i[10:]\n",
    "        train_loss = np.load(f'runs/{i}', allow_pickle=True)\n",
    "        val_loss = np.load(f'runs/valloss_with_{name}', allow_pickle=True)\n",
    "        labels = name[:-4]\n",
    "        plot(train_loss, val_loss)\n",
    "        splitted = labels.split(', ')\n",
    "        try:\n",
    "            splitted[-2] = float(splitted[-2])\n",
    "            splitted[-1] = float(splitted[-1])\n",
    "            print(\", \".join(splitted[:-2]), \"%.2f\"%splitted[-2], \"%.2f\"%splitted[-1])\n",
    "        except:\n",
    "            print(labels)"
   ]
  },
  {
   "cell_type": "code",
   "execution_count": 2,
   "metadata": {},
   "outputs": [
    {
     "name": "stderr",
     "output_type": "stream",
     "text": [
      "306.79s - Error inserting pydevd breaks.\n",
      "Traceback (most recent call last):\n",
      "  File \"/home/samil/.local/lib/python3.8/site-packages/debugpy/_vendored/pydevd/_pydevd_frame_eval/pydevd_modify_bytecode.py\", line 328, in insert_pydevd_breaks\n",
      "    for new_instruction in get_instructions_to_add(\n",
      "  File \"/home/samil/.local/lib/python3.8/site-packages/debugpy/_vendored/pydevd/_pydevd_frame_eval/pydevd_modify_bytecode.py\", line 102, in get_instructions_to_add\n",
      "    Instr(\"LOAD_CONST\", _pydev_stop_at_break, lineno=stop_at_line - 1),\n",
      "  File \"/home/samil/.local/lib/python3.8/site-packages/debugpy/_vendored/pydevd/_pydevd_frame_eval/vendored/bytecode/instr.py\", line 171, in __init__\n",
      "    self._set(name, arg, lineno)\n",
      "  File \"/home/samil/.local/lib/python3.8/site-packages/debugpy/_vendored/pydevd/_pydevd_frame_eval/vendored/bytecode/instr.py\", line 239, in _set\n",
      "    _check_lineno(lineno)\n",
      "  File \"/home/samil/.local/lib/python3.8/site-packages/debugpy/_vendored/pydevd/_pydevd_frame_eval/vendored/bytecode/instr.py\", line 74, in _check_lineno\n",
      "    raise ValueError(\"invalid lineno\")\n",
      "ValueError: invalid lineno\n",
      "Traceback (most recent call last):\n",
      "  File \"_pydevd_bundle/pydevd_cython.pyx\", line 1084, in _pydevd_bundle.pydevd_cython.PyDBFrame.trace_dispatch\n",
      "  File \"_pydevd_bundle/pydevd_cython.pyx\", line 297, in _pydevd_bundle.pydevd_cython.PyDBFrame.do_wait_suspend\n",
      "  File \"/home/samil/.local/lib/python3.8/site-packages/debugpy/_vendored/pydevd/pydevd.py\", line 2055, in do_wait_suspend\n",
      "    keep_suspended = self._do_wait_suspend(thread, frame, event, arg, suspend_type, from_this_thread, frames_tracker)\n",
      "  File \"/home/samil/.local/lib/python3.8/site-packages/debugpy/_vendored/pydevd/pydevd.py\", line 2091, in _do_wait_suspend\n",
      "    time.sleep(0.01)\n",
      "KeyboardInterrupt\n"
     ]
    },
    {
     "ename": "KeyboardInterrupt",
     "evalue": "",
     "output_type": "error",
     "traceback": [
      "\u001b[0;31m---------------------------------------------------------------------------\u001b[0m",
      "\u001b[0;31mKeyboardInterrupt\u001b[0m                         Traceback (most recent call last)",
      "\u001b[1;32m/mnt/c/Users/pc/repos/DL_Framework_C/data_prep.ipynb Cell 12\u001b[0m in \u001b[0;36m<cell line: 1>\u001b[0;34m()\u001b[0m\n\u001b[0;32m----> <a href='vscode-notebook-cell://wsl%2Bubuntu/mnt/c/Users/pc/repos/DL_Framework_C/data_prep.ipynb#X14sdnNjb2RlLXJlbW90ZQ%3D%3D?line=0'>1</a>\u001b[0m \u001b[39mfrom\u001b[39;00m \u001b[39mNeuralNetwork\u001b[39;00m \u001b[39mimport\u001b[39;00m NeuralNetwork \u001b[39mas\u001b[39;00m nn\n\u001b[1;32m      <a href='vscode-notebook-cell://wsl%2Bubuntu/mnt/c/Users/pc/repos/DL_Framework_C/data_prep.ipynb#X14sdnNjb2RlLXJlbW90ZQ%3D%3D?line=1'>2</a>\u001b[0m \u001b[39mfrom\u001b[39;00m \u001b[39mdata_layer\u001b[39;00m \u001b[39mimport\u001b[39;00m Dataset\n\u001b[1;32m      <a href='vscode-notebook-cell://wsl%2Bubuntu/mnt/c/Users/pc/repos/DL_Framework_C/data_prep.ipynb#X14sdnNjb2RlLXJlbW90ZQ%3D%3D?line=2'>3</a>\u001b[0m \u001b[39mfrom\u001b[39;00m \u001b[39mpyflow\u001b[39;00m \u001b[39mimport\u001b[39;00m Tensor, L1Loss, L2Loss, FullyConnected, SGD, CrossEntropyLoss, ReLU, Dropout\n",
      "\u001b[1;32m/mnt/c/Users/pc/repos/DL_Framework_C/data_prep.ipynb Cell 12\u001b[0m in \u001b[0;36m<cell line: 1>\u001b[0;34m()\u001b[0m\n\u001b[0;32m----> <a href='vscode-notebook-cell://wsl%2Bubuntu/mnt/c/Users/pc/repos/DL_Framework_C/data_prep.ipynb#X14sdnNjb2RlLXJlbW90ZQ%3D%3D?line=0'>1</a>\u001b[0m \u001b[39mfrom\u001b[39;00m \u001b[39mNeuralNetwork\u001b[39;00m \u001b[39mimport\u001b[39;00m NeuralNetwork \u001b[39mas\u001b[39;00m nn\n\u001b[1;32m      <a href='vscode-notebook-cell://wsl%2Bubuntu/mnt/c/Users/pc/repos/DL_Framework_C/data_prep.ipynb#X14sdnNjb2RlLXJlbW90ZQ%3D%3D?line=1'>2</a>\u001b[0m \u001b[39mfrom\u001b[39;00m \u001b[39mdata_layer\u001b[39;00m \u001b[39mimport\u001b[39;00m Dataset\n\u001b[1;32m      <a href='vscode-notebook-cell://wsl%2Bubuntu/mnt/c/Users/pc/repos/DL_Framework_C/data_prep.ipynb#X14sdnNjb2RlLXJlbW90ZQ%3D%3D?line=2'>3</a>\u001b[0m \u001b[39mfrom\u001b[39;00m \u001b[39mpyflow\u001b[39;00m \u001b[39mimport\u001b[39;00m Tensor, L1Loss, L2Loss, FullyConnected, SGD, CrossEntropyLoss, ReLU, Dropout\n",
      "File \u001b[0;32m_pydevd_bundle/pydevd_cython.pyx:1369\u001b[0m, in \u001b[0;36m_pydevd_bundle.pydevd_cython.SafeCallWrapper.__call__\u001b[0;34m()\u001b[0m\n",
      "File \u001b[0;32m_pydevd_bundle/pydevd_cython.pyx:661\u001b[0m, in \u001b[0;36m_pydevd_bundle.pydevd_cython.PyDBFrame.trace_dispatch\u001b[0;34m()\u001b[0m\n",
      "File \u001b[0;32m_pydevd_bundle/pydevd_cython.pyx:1093\u001b[0m, in \u001b[0;36m_pydevd_bundle.pydevd_cython.PyDBFrame.trace_dispatch\u001b[0;34m()\u001b[0m\n",
      "File \u001b[0;32m_pydevd_bundle/pydevd_cython.pyx:1084\u001b[0m, in \u001b[0;36m_pydevd_bundle.pydevd_cython.PyDBFrame.trace_dispatch\u001b[0;34m()\u001b[0m\n",
      "File \u001b[0;32m_pydevd_bundle/pydevd_cython.pyx:297\u001b[0m, in \u001b[0;36m_pydevd_bundle.pydevd_cython.PyDBFrame.do_wait_suspend\u001b[0;34m()\u001b[0m\n",
      "File \u001b[0;32m~/.local/lib/python3.8/site-packages/debugpy/_vendored/pydevd/pydevd.py:2055\u001b[0m, in \u001b[0;36mPyDB.do_wait_suspend\u001b[0;34m(self, thread, frame, event, arg, exception_type)\u001b[0m\n\u001b[1;32m   2052\u001b[0m             from_this_thread\u001b[39m.\u001b[39mappend(frame_custom_thread_id)\n\u001b[1;32m   2054\u001b[0m     \u001b[39mwith\u001b[39;00m \u001b[39mself\u001b[39m\u001b[39m.\u001b[39m_threads_suspended_single_notification\u001b[39m.\u001b[39mnotify_thread_suspended(thread_id, stop_reason):\n\u001b[0;32m-> 2055\u001b[0m         keep_suspended \u001b[39m=\u001b[39m \u001b[39mself\u001b[39;49m\u001b[39m.\u001b[39;49m_do_wait_suspend(thread, frame, event, arg, suspend_type, from_this_thread, frames_tracker)\n\u001b[1;32m   2057\u001b[0m frames_list \u001b[39m=\u001b[39m \u001b[39mNone\u001b[39;00m\n\u001b[1;32m   2059\u001b[0m \u001b[39mif\u001b[39;00m keep_suspended:\n\u001b[1;32m   2060\u001b[0m     \u001b[39m# This means that we should pause again after a set next statement.\u001b[39;00m\n",
      "File \u001b[0;32m~/.local/lib/python3.8/site-packages/debugpy/_vendored/pydevd/pydevd.py:2091\u001b[0m, in \u001b[0;36mPyDB._do_wait_suspend\u001b[0;34m(self, thread, frame, event, arg, suspend_type, from_this_thread, frames_tracker)\u001b[0m\n\u001b[1;32m   2088\u001b[0m         \u001b[39mself\u001b[39m\u001b[39m.\u001b[39m_call_input_hook()\n\u001b[1;32m   2090\u001b[0m     \u001b[39mself\u001b[39m\u001b[39m.\u001b[39mprocess_internal_commands()\n\u001b[0;32m-> 2091\u001b[0m     time\u001b[39m.\u001b[39;49msleep(\u001b[39m0.01\u001b[39;49m)\n\u001b[1;32m   2093\u001b[0m \u001b[39mself\u001b[39m\u001b[39m.\u001b[39mcancel_async_evaluation(get_current_thread_id(thread), \u001b[39mstr\u001b[39m(\u001b[39mid\u001b[39m(frame)))\n\u001b[1;32m   2095\u001b[0m \u001b[39m# process any stepping instructions\u001b[39;00m\n",
      "\u001b[0;31mKeyboardInterrupt\u001b[0m: "
     ]
    }
   ],
   "source": [
    "from NeuralNetwork import NeuralNetwork as nn\n",
    "from data_layer import Dataset\n",
    "from pyflow import Tensor, L1Loss, L2Loss, FullyConnected, SGD, CrossEntropyLoss, ReLU, Dropout\n",
    "from gc import collect\n",
    "import numpy as np\n",
    "collect()\n",
    "\n",
    "layer = FullyConnected(31, 16, 1e-3, 'SGD')\n",
    "dropout = Dropout(0.8)\n",
    "layer2 = FullyConnected(16, 8, 1e-3, 'SGD')\n",
    "dropout2 = Dropout(0.8)\n",
    "layer3 = FullyConnected(8, 4, 1e-3, 'SGD')\n",
    "layer4 = FullyConnected(4, 1, 1e-3, 'SGD')\n",
    "\n",
    "net = nn('SGD', path='saved_models/model_Adam_48_valllos')\n",
    "net.append_layer(layer)\n",
    "net.append_layer(ReLU())\n",
    "net.append_layer(dropout)\n",
    "net.append_layer(layer2)\n",
    "net.append_layer(ReLU())\n",
    "net.append_layer(dropout2)\n",
    "net.append_layer(layer3)\n",
    "net.append_layer(ReLU())\n",
    "net.append_layer(layer4)\n",
    "\n",
    "net.loss_layer = L2Loss()\n",
    "\n",
    "net.save_model('model')"
   ]
  },
  {
   "cell_type": "code",
   "execution_count": null,
   "metadata": {},
   "outputs": [],
   "source": [
    "net2 = nn('SGD')\n",
    "net2.load_model('model')"
   ]
  },
  {
   "cell_type": "code",
   "execution_count": 2,
   "metadata": {},
   "outputs": [
    {
     "ename": "NameError",
     "evalue": "name 'net2' is not defined",
     "output_type": "error",
     "traceback": [
      "\u001b[0;31m---------------------------------------------------------------------------\u001b[0m",
      "\u001b[0;31mNameError\u001b[0m                                 Traceback (most recent call last)",
      "Cell \u001b[0;32mIn[2], line 4\u001b[0m\n\u001b[1;32m      2\u001b[0m \u001b[39mif\u001b[39;00m net\u001b[39m.\u001b[39mlayers[i]\u001b[39m.\u001b[39m\u001b[39m__class__\u001b[39m\u001b[39m.\u001b[39m\u001b[39m__name__\u001b[39m \u001b[39m==\u001b[39m \u001b[39m'\u001b[39m\u001b[39mFullyConnected\u001b[39m\u001b[39m'\u001b[39m:\n\u001b[1;32m      3\u001b[0m     W1 \u001b[39m=\u001b[39m np\u001b[39m.\u001b[39marray(net\u001b[39m.\u001b[39mlayers[i]\u001b[39m.\u001b[39mweights\u001b[39m.\u001b[39mtolist())[\u001b[39m0\u001b[39m]\n\u001b[0;32m----> 4\u001b[0m     W2 \u001b[39m=\u001b[39m np\u001b[39m.\u001b[39marray(net2\u001b[39m.\u001b[39mlayers[i]\u001b[39m.\u001b[39mweights\u001b[39m.\u001b[39mtolist())[\u001b[39m0\u001b[39m]\n\u001b[1;32m      5\u001b[0m     b1 \u001b[39m=\u001b[39m np\u001b[39m.\u001b[39marray(net\u001b[39m.\u001b[39mlayers[i]\u001b[39m.\u001b[39mbias\u001b[39m.\u001b[39mtolist())[\u001b[39m0\u001b[39m]\n\u001b[1;32m      6\u001b[0m     b2 \u001b[39m=\u001b[39m np\u001b[39m.\u001b[39marray(net2\u001b[39m.\u001b[39mlayers[i]\u001b[39m.\u001b[39mbias\u001b[39m.\u001b[39mtolist())[\u001b[39m0\u001b[39m]\n",
      "\u001b[0;31mNameError\u001b[0m: name 'net2' is not defined"
     ]
    }
   ],
   "source": [
    "for i in range(len(net.layers)):\n",
    "    if net.layers[i].__class__.__name__ == 'FullyConnected':\n",
    "        W1 = np.array(net.layers[i].weights.tolist())[0]\n",
    "        W2 = np.array(net2.layers[i].weights.tolist())[0]\n",
    "        b1 = np.array(net.layers[i].bias.tolist())[0]\n",
    "        b2 = np.array(net2.layers[i].bias.tolist())[0]\n",
    "        print(np.allclose(W1, W2))\n",
    "        print(np.allclose(b1, b2))"
   ]
  },
  {
   "cell_type": "code",
   "execution_count": 7,
   "metadata": {},
   "outputs": [
    {
     "data": {
      "text/plain": [
       "0.592845 0.844266 0.857946 0.847252 "
      ]
     },
     "execution_count": 7,
     "metadata": {},
     "output_type": "execute_result"
    }
   ],
   "source": [
    "net.layers[-1]"
   ]
  },
  {
   "cell_type": "code",
   "execution_count": 1,
   "metadata": {},
   "outputs": [
    {
     "data": {
      "image/png": "[encoded data removed]",
      "text/plain": [
       "<Figure size 432x288 with 1 Axes>"
      ]
     },
     "metadata": {
      "needs_background": "light"
     },
     "output_type": "display_data"
    }
   ],
   "source": [
    "losses = []\n",
    "losses.append([56.78696963411451, 56.79988706577163, 56.30567087769273, 56.26798248379765, 56.31875922801334, 56.52551989496126, 56.50387365186174, 56.42948998183488])\n",
    "losses.append([57.04300139394967, 56.98894406607251, 56.1317550632788, 56.04419688826381, 55.947680315078784, 56.19645383998316, 56.153669585505305, 56.08066101954237])\n",
    "losses.append([57.13901215974242, 57.0993010983182, 56.12516216489861, 55.77690033684333, 55.64173109781663, 55.86875157070448, 55.79222879860492, 55.721369012839155])\n",
    "splits = [2, 3, 4, 5, 6, 7, 8, 9]\n",
    "\n",
    "import matplotlib.pyplot as plt\n",
    "\n",
    "plt.plot(splits, losses[0], label='depth=10')\n",
    "plt.plot(splits, losses[1], label='depth=11')\n",
    "plt.plot(splits, losses[2], label='depth=12')\n",
    "plt.legend()\n",
    "plt.xlabel('sample_split_thres')\n",
    "plt.ylabel('MSE')\n",
    "plt.show()"
   ]
  }
 ],
 "metadata": {
  "kernelspec": {
   "display_name": "Python 3",
   "language": "python",
   "name": "python3"
  },
  "language_info": {
   "codemirror_mode": {
    "name": "ipython",
    "version": 3
   },
   "file_extension": ".py",
   "mimetype": "text/x-python",
   "name": "python",
   "nbconvert_exporter": "python",
   "pygments_lexer": "ipython3",
   "version": "3.8.10"
  },
  "orig_nbformat": 4,
  "vscode": {
   "interpreter": {
    "hash": "916dbcbb3f70747c44a77c7bcd40155683ae19c65e1c03b4aa3499c5328201f1"
   }
  }
 },
 "nbformat": 4,
 "nbformat_minor": 2
}
