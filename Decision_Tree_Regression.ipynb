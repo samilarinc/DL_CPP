{
 "cells": [
  {
   "cell_type": "code",
   "execution_count": 1,
   "metadata": {},
   "outputs": [],
   "source": [
    "import numpy as np\n",
    "\n",
    "\n",
    "class Decision_Tree_Regression(object):\n",
    "    def __init__(self, max_depth=5, min_samples_split=2):\n",
    "        self.max_depth = max_depth\n",
    "        self.min_samples_split = min_samples_split\n",
    "        self.root = None\n",
    "\n",
    "    def fit(self, X, y):\n",
    "        self.root = self._build_tree(X, y)\n",
    "\n",
    "    def _build_tree(self, X, y, depth=0):\n",
    "        num_samples, num_features = np.shape(X)\n",
    "        # min_samples_split: minimum number of samples required to split an internal node\n",
    "        if num_samples >= self.min_samples_split and depth <= self.max_depth:\n",
    "            best_idx, best_threshold = self._best_criteria(X, y)\n",
    "            left_idx, right_idx = self._split(X[:, best_idx], best_threshold)\n",
    "            left = self._build_tree(X[left_idx, :], y[left_idx], depth + 1)\n",
    "            right = self._build_tree(X[right_idx, :], y[right_idx], depth + 1)\n",
    "            return Node(best_idx, best_threshold, left, right)\n",
    "        leaf_value = self._leaf_value(y)\n",
    "        return Node(value=leaf_value)\n",
    "\n",
    "    def _best_criteria(self, X, y):\n",
    "        num_features = np.shape(X)[1]\n",
    "        best_idx, best_threshold = None, None\n",
    "        min_impurity = float('inf')\n",
    "        for idx in range(num_features):\n",
    "            thresholds = np.unique(X[:, idx])\n",
    "            for threshold in thresholds:\n",
    "                impurity = self._impurity(y, threshold, X[:, idx])\n",
    "                if impurity <= min_impurity:\n",
    "                    min_impurity = impurity\n",
    "                    best_idx = idx\n",
    "                    best_threshold = threshold\n",
    "        return best_idx, best_threshold\n",
    "\n",
    "    def _impurity(self, y, threshold, feature):\n",
    "        left_idx, right_idx = self._split(feature, threshold) # indices of the left and right subtree\n",
    "        if len(left_idx) == 0 or len(right_idx) == 0:\n",
    "            return float('inf')\n",
    "        left = y[left_idx]\n",
    "        right = y[right_idx]\n",
    "        p = len(left) / len(y) # proportion of the left subtree\n",
    "        impurity = p * self._gini(left) + (1 - p) * self._gini(right)\n",
    "        return impurity\n",
    "\n",
    "    def _gini(self, y):\n",
    "        _, counts = np.unique(y, return_counts=True)\n",
    "        p = counts / len(y)\n",
    "        return 1 - np.sum(np.square(p)) # gini impurity\n",
    "\n",
    "    def _split(self, feature, threshold):\n",
    "        left_idx = np.argwhere(feature <= threshold).flatten() # indices of the left subtree\n",
    "        right_idx = np.argwhere(feature > threshold).flatten() # indices of the right subtree\n",
    "        return left_idx, right_idx\n",
    "\n",
    "    def _leaf_value(self, y):\n",
    "        leaf_value = np.mean(y) # mean of the target values\n",
    "        return leaf_value # return the mean of the target values\n",
    "\n",
    "    def predict(self, X):\n",
    "        # traverse the tree for each sample\n",
    "        return np.array([self._traverse_tree(x, self.root) for x in X])\n",
    "\n",
    "    def _traverse_tree(self, x, node):\n",
    "        if node.value is not None:  # leaf node\n",
    "            return node.value  # return the value of the leaf node\n",
    "        feature_value = x[node.idx]  # get the value of the feature\n",
    "        if feature_value <= node.threshold:  # go left\n",
    "            # traverse the left subtree\n",
    "            return self._traverse_tree(x, node.left)\n",
    "        return self._traverse_tree(x, node.right)  # traverse the right subtree\n",
    "\n",
    "\n",
    "class Node(object):\n",
    "    def __init__(self, idx=None, threshold=None, left=None, right=None, value=None):\n",
    "        self.idx = idx\n",
    "        self.threshold = threshold\n",
    "        self.left = left\n",
    "        self.right = right\n",
    "        self.value = value\n",
    "\n",
    "    def __repr__(self):\n",
    "        return \"%d\" % self.idx\n",
    "        # \"Node(idx={}, threshold={}, value={})\".format(self.idx, self.threshold, self.value)\n",
    "\n",
    "    def __str__(self):\n",
    "        return self.__repr__()\n",
    "\n",
    "# Path: Decision_Tree_Regression.ipynb\n",
    "\n",
    "\n",
    "def mean_squared_error(y_true, y_pred):\n",
    "    return np.mean(np.square(y_true - y_pred))\n"
   ]
  },
  {
   "cell_type": "code",
   "execution_count": 2,
   "metadata": {},
   "outputs": [],
   "source": [
    "import pickle as pkl\n",
    "\n",
    "with open('data.pkl', 'rb') as f:\n",
    "    X = pkl.load(f)\n",
    "with open('labels.pkl', 'rb') as f:\n",
    "    y = pkl.load(f)"
   ]
  },
  {
   "cell_type": "code",
   "execution_count": null,
   "metadata": {},
   "outputs": [],
   "source": [
    "net = Decision_Tree_Regression(max_depth=10, min_samples_split=5)\n",
    "net.fit(X, y)"
   ]
  },
  {
   "cell_type": "code",
   "execution_count": null,
   "metadata": {},
   "outputs": [],
   "source": [
    "y_test = net.predict(X)"
   ]
  },
  {
   "cell_type": "code",
   "execution_count": null,
   "metadata": {},
   "outputs": [],
   "source": [
    "mean_squared_error(y, y_test)"
   ]
  },
  {
   "cell_type": "code",
   "execution_count": null,
   "metadata": {},
   "outputs": [],
   "source": [
    "def print_tree(root_node,):\n",
    "    print(root_node)\n",
    "    if root_node.left is not None:\n",
    "        print_tree(root_node.left)\n",
    "    if root_node.right is not None:\n",
    "        print_tree(root_node.right)\n",
    "\n",
    "print_tree(net.tree)"
   ]
  },
  {
   "cell_type": "code",
   "execution_count": 3,
   "metadata": {},
   "outputs": [],
   "source": [
    "class XGBoost(object):\n",
    "    def __init__(self, n_estimators=100, learning_rate=0.1, max_depth=3):\n",
    "        self.n_estimators = n_estimators\n",
    "        self.learning_rate = learning_rate\n",
    "        self.max_depth = max_depth\n",
    "        self.trees = []\n",
    "\n",
    "    def fit(self, X, y):\n",
    "        y_pred = np.zeros(np.shape(y))\n",
    "        for i in range(self.n_estimators):\n",
    "            tree = Decision_Tree_Regression(max_depth=self.max_depth)\n",
    "            # get the residuals\n",
    "            residuals = -self.gradient(y, y_pred)\n",
    "            # fit the tree to the negative gradient\n",
    "            tree.fit(X, residuals)\n",
    "            self.trees.append(tree)\n",
    "            # update the predictions\n",
    "            update_prediction = tree.predict(X)\n",
    "            y_pred -= np.multiply(self.learning_rate, update_prediction)\n",
    "\n",
    "    def predict(self, X):\n",
    "        y_pred = np.zeros(np.shape(X)[0])\n",
    "        for tree in self.trees:\n",
    "            update_prediction = tree.predict(X)\n",
    "            y_pred -= np.multiply(self.learning_rate, update_prediction)\n",
    "        return y_pred\n",
    "\n",
    "    def gradient(self, y, y_pred):\n",
    "        return y - y_pred\n",
    "\n",
    "    def loss(self, y, y_pred):\n",
    "        return np.mean(np.square(y - y_pred))"
   ]
  },
  {
   "cell_type": "code",
   "execution_count": 5,
   "metadata": {},
   "outputs": [
    {
     "data": {
      "text/plain": [
       "736.5855887974029"
      ]
     },
     "execution_count": 5,
     "metadata": {},
     "output_type": "execute_result"
    }
   ],
   "source": [
    "model = XGBoost(n_estimators=10, learning_rate=0.1, max_depth=5)\n",
    "model.fit(X, y)\n",
    "y_pred = model.predict(X)\n",
    "model.loss(y, y_pred)"
   ]
  },
  {
   "cell_type": "code",
   "execution_count": null,
   "metadata": {},
   "outputs": [],
   "source": [
    "model"
   ]
  }
 ],
 "metadata": {
  "kernelspec": {
   "display_name": "Python 3",
   "language": "python",
   "name": "python3"
  },
  "language_info": {
   "codemirror_mode": {
    "name": "ipython",
    "version": 3
   },
   "file_extension": ".py",
   "mimetype": "text/x-python",
   "name": "python",
   "nbconvert_exporter": "python",
   "pygments_lexer": "ipython3",
   "version": "3.10.4"
  },
  "orig_nbformat": 4,
  "vscode": {
   "interpreter": {
    "hash": "3ad933181bd8a04b432d3370b9dc3b0662ad032c4dfaa4e4f1596c548f763858"
   }
  }
 },
 "nbformat": 4,
 "nbformat_minor": 2
}
